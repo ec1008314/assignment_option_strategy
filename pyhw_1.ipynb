{
 "cells": [
  {
   "cell_type": "code",
   "execution_count": 1,
   "metadata": {
    "collapsed": false
   },
   "outputs": [
    {
     "data": {
      "text/plain": [
       "<function matplotlib.pyplot.show>"
      ]
     },
     "execution_count": 1,
     "metadata": {},
     "output_type": "execute_result"
    }
   ],
   "source": [
    " import numpy as np\n",
    "def option_call(premium,x,st,range_1):\n",
    "    ST=np.arange(st-range_1,st+range_1)\n",
    "    payoff1=np.maximum(ST-x,0)-premium\n",
    "    return(payoff1)\n",
    "      \n",
    "def option_put(premium,x,st,range_1):\n",
    "    ST=np.arange(st-range_1,st+range_1)\n",
    "    payoff1=np.maximum(x-ST,0)-premium\n",
    "    return(payoff1)\n",
    "    \n",
    "c=179\n",
    "p=37\n",
    "k=9100\n",
    "r=500\n",
    "st=9100\n",
    "sr=np.arange(st-r,st+r)\n",
    "payoff_long_call=option_call(c,k,st,r)\n",
    "payoff_short_call=-payoff_long_call\n",
    "payoff_long_put=option_put(p,k,st,r)\n",
    "payoff_short_put=-payoff_long_put\n",
    "import matplotlib.pyplot as mb\n",
    "mb.plot(sr,payoff_long_call) \n",
    "mb.plot(sr,payoff_short_call) \n",
    "mb.plot(sr,payoff_long_put) \n",
    "mb.plot(sr,payoff_short_put) \n",
    "\n",
    "k1=9000\n",
    "k2=9200\n",
    "c1=100\n",
    "p2=20\n",
    "strategy1=option_call(c1,k2,st,r)+option_put(p2,k1,st,r)\n",
    "mb.plot(sr,strategy1) \n",
    "mb.show\n"
   ]
  },
  {
   "cell_type": "code",
   "execution_count": null,
   "metadata": {
    "collapsed": false
   },
   "outputs": [],
   "source": []
  },
  {
   "cell_type": "code",
   "execution_count": null,
   "metadata": {
    "collapsed": true
   },
   "outputs": [],
   "source": []
  }
 ],
 "metadata": {
  "anaconda-cloud": {},
  "kernelspec": {
   "display_name": "Python [conda root]",
   "language": "python",
   "name": "conda-root-py"
  },
  "language_info": {
   "codemirror_mode": {
    "name": "ipython",
    "version": 3
   },
   "file_extension": ".py",
   "mimetype": "text/x-python",
   "name": "python",
   "nbconvert_exporter": "python",
   "pygments_lexer": "ipython3",
   "version": "3.5.2"
  }
 },
 "nbformat": 4,
 "nbformat_minor": 1
}
